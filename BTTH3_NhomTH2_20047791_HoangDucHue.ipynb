{
  "cells": [
    {
      "cell_type": "code",
      "source": [
        "from google.colab import drive\n",
        "drive.mount('/gdrive')\n",
        "%cd /gdrive"
      ],
      "metadata": {
        "id": "e0nUhy_ys8Mk"
      },
      "execution_count": null,
      "outputs": []
    },
    {
      "cell_type": "markdown",
      "metadata": {
        "id": "OKMttGrTe8xz"
      },
      "source": [
        "# 1. Hiển thị tên máy hiện tại, sử dụng hàm gethostname()"
      ]
    },
    {
      "cell_type": "code",
      "execution_count": 2,
      "metadata": {
        "colab": {
          "base_uri": "https://localhost:8080/"
        },
        "id": "sNmN-Hv4e8x0",
        "outputId": "98b25751-489d-4adc-de05-336f679e95d8"
      },
      "outputs": [
        {
          "output_type": "stream",
          "name": "stdout",
          "text": [
            "Host name 78d90e59b4ba\n"
          ]
        }
      ],
      "source": [
        "import socket\n",
        "host_name = socket.gethostname()\n",
        "print(\"Host name\", host_name)"
      ]
    },
    {
      "cell_type": "markdown",
      "metadata": {
        "id": "DLjzeaD1e8x1"
      },
      "source": [
        "# 2. Hiển thị đc IP của máy đang sử dụng, sử dụng hàm gethostbyname(tenmay)"
      ]
    },
    {
      "cell_type": "code",
      "execution_count": 5,
      "metadata": {
        "colab": {
          "base_uri": "https://localhost:8080/"
        },
        "id": "8o-xyxZWe8x2",
        "outputId": "32e1ce7b-ec80-44a8-f2a2-365f1824a4b1"
      },
      "outputs": [
        {
          "output_type": "stream",
          "name": "stdout",
          "text": [
            "IP address of 78d90e59b4ba is 172.28.0.12\n"
          ]
        }
      ],
      "source": [
        "import socket\n",
        "host_name = socket.gethostname()\n",
        "ip_address = socket.gethostbyname(host_name)\n",
        "print(\"IP address of \"+ host_name + \" is \" + ip_address)"
      ]
    },
    {
      "cell_type": "markdown",
      "metadata": {
        "id": "nzs-Za5Pe8x2"
      },
      "source": [
        "# 3. Viết đoạn script cho phép người dùng lấy địa chỉ IP của máy hiện tại"
      ]
    },
    {
      "cell_type": "code",
      "execution_count": 8,
      "metadata": {
        "colab": {
          "base_uri": "https://localhost:8080/"
        },
        "id": "0eJxjnUxe8x2",
        "outputId": "f360f2f7-0cb3-4d3e-e355-cf1087dc9556"
      },
      "outputs": [
        {
          "output_type": "stream",
          "name": "stdout",
          "text": [
            "The IP address of 78d90e59b4ba is 172.28.0.12\n"
          ]
        }
      ],
      "source": [
        "# Viet theo dang ham (function)\n",
        "# start code HERE\n",
        "import socket\n",
        "\n",
        "def get_ip_address():\n",
        "    # Lay ten may chu cua may\n",
        "    host_name = socket.gethostname()\n",
        "\n",
        "    # Lay dia chi ip dua tren ten may chu\n",
        "    ip_address = socket.gethostbyname(host_name)\n",
        "\n",
        "    return f\"The IP address of {host_name} is {ip_address}\"\n",
        "\n",
        "# Example usage\n",
        "print(get_ip_address())"
      ]
    },
    {
      "cell_type": "markdown",
      "metadata": {
        "id": "5WrxTMDse8x2"
      },
      "source": [
        "# 4. Truy vấn địa chỉ IP ở xa\n",
        "Khi một thiết bị kết nối vào mạng Internet muốn trao đổi thông tin với các thiết bị khác trong mạng, thiết bị đó cần được cấp một đcIP xác định và phải biết được đcIP của thiết bị mình cần tương tác.\n",
        "\n",
        "Vậy làm cách nào bạn có thể dịch tên của host_name thành đcIP?\n",
        "\n",
        "Vd: muốn biết đcIP của tuoitre.vn hoặc google.com -> gethostbyname()"
      ]
    },
    {
      "cell_type": "code",
      "execution_count": 7,
      "metadata": {
        "colab": {
          "base_uri": "https://localhost:8080/"
        },
        "id": "icgrvBPhe8x3",
        "outputId": "cc296ab1-433a-4ff3-9fb3-323f56363190"
      },
      "outputs": [
        {
          "output_type": "stream",
          "name": "stdout",
          "text": [
            "Địa chỉ IP của tuoitre.net là 184.168.221.55\n",
            "Địa chỉ IP của google.com là 142.251.2.102\n"
          ]
        }
      ],
      "source": [
        "### START CODE HERE ###\n",
        "import socket\n",
        "\n",
        "def query_ip_address(host_name):\n",
        "    try:\n",
        "        # Truy vấn địa chỉ IP từ tên của host\n",
        "        ip_address = socket.gethostbyname(host_name)\n",
        "        return f\"Địa chỉ IP của {host_name} là {ip_address}\"\n",
        "    except socket.gaierror:\n",
        "        return f\"Không thể truy vấn địa chỉ IP của {host_name}\"\n",
        "\n",
        "# Ví dụ sử dụng\n",
        "print(query_ip_address(\"tuoitre.net\"))\n",
        "print(query_ip_address(\"google.com\"))"
      ]
    },
    {
      "cell_type": "code",
      "source": [
        "import socket\n",
        "\n",
        "def query_ip_address():\n",
        "    try:\n",
        "        # Lấy tên miền từ người dùng\n",
        "        host_name = input(\"Nhập tên miền: \")\n",
        "\n",
        "        # Truy vấn địa chỉ IP từ tên của host\n",
        "        ip_address = socket.gethostbyname(host_name)\n",
        "        return f\"Địa chỉ IP của {host_name} là {ip_address}\"\n",
        "    except socket.gaierror:\n",
        "        return f\"Không thể truy vấn địa chỉ IP của {host_name}\"\n",
        "\n",
        "result = query_ip_address()\n",
        "print(result)"
      ],
      "metadata": {
        "colab": {
          "base_uri": "https://localhost:8080/"
        },
        "id": "dIww9yV5uZ3e",
        "outputId": "6acacf4e-96b8-4871-88bc-2ed7d9d3b6a5"
      },
      "execution_count": 25,
      "outputs": [
        {
          "output_type": "stream",
          "name": "stdout",
          "text": [
            "Nhập tên miền: tuoitre.net\n",
            "Địa chỉ IP của tuoitre.net là 184.168.221.55\n"
          ]
        }
      ]
    },
    {
      "cell_type": "markdown",
      "metadata": {
        "id": "plE7SUOfe8x3"
      },
      "source": [
        "# 5. Chuyển đc IPv4 sang định dạng khác\n",
        "Địa chỉ IPv4 là một dãy số nhị phân 32-bit. Tuy nhiên, để thuận tiện cho người dùng, thông thường nó được thể hiển theo dạng chuỗi bao gồm 4 octet cách nhau bởi dấu (.) chấm (Vd: 192.168.0.1)\n",
        "\n",
        "Trường hợp ký hiệu địa chỉ IP (dạng X.X.X.X)không phù hợp với các xử lý trong lập trình, khi đó chúng cần được chuyển đổi sang các định dạng nhị phân 32 bit."
      ]
    },
    {
      "cell_type": "code",
      "execution_count": 27,
      "metadata": {
        "colab": {
          "base_uri": "https://localhost:8080/"
        },
        "id": "T533sSqze8x3",
        "outputId": "d99d8bb7-4e2d-400f-f89b-e87c0d6ba45e"
      },
      "outputs": [
        {
          "output_type": "stream",
          "name": "stdout",
          "text": [
            "Nhập địa chỉ IPv4 (ví dụ: 192.168.0.1): 192.168.5.12\n",
            "Địa chỉ IPv4: 192.168.5.12\n",
            "Dạng danh sách: [192, 168, 5, 12]\n",
            "Dạng số nguyên: 3232236812\n",
            "Dạng nhị phân: 11000000101010000000010100001100\n",
            "Dạng hex: c0a8050c\n"
          ]
        }
      ],
      "source": [
        "#import socket\n",
        "#help(socket.inet_aton)\n",
        "import socket\n",
        "import struct\n",
        "\n",
        "def ipv4_to_list(ipv4_address):\n",
        "    ip_parts = list(map(int, ipv4_address.split(\".\")))\n",
        "    return ip_parts\n",
        "\n",
        "def ipv4_to_integer(ipv4_address):\n",
        "    ip_integer = struct.unpack(\"!I\", socket.inet_aton(ipv4_address))[0]\n",
        "    return ip_integer\n",
        "\n",
        "def ipv4_to_binary(ipv4_address):\n",
        "    ip_binary = \"\".join(format(int(x), \"08b\") for x in ipv4_address.split(\".\"))\n",
        "    return ip_binary\n",
        "\n",
        "def ipv4_to_hex(ipv4_address):\n",
        "    ip_hex = \"\".join(\"{:02x}\".format(int(x)) for x in ipv4_address.split(\".\"))\n",
        "    return ip_hex\n",
        "\n",
        "if __name__ == \"__main__\":\n",
        "    ipv4_address = input(\"Nhập địa chỉ IPv4 (ví dụ: 192.168.0.1): \")\n",
        "\n",
        "    if not ipv4_address:\n",
        "        print(\"Vui lòng nhập một địa chỉ IPv4 hợp lệ.\")\n",
        "    else:\n",
        "        ip_list = ipv4_to_list(ipv4_address)\n",
        "        ip_integer = ipv4_to_integer(ipv4_address)\n",
        "        ip_binary = ipv4_to_binary(ipv4_address)\n",
        "        ip_hex = ipv4_to_hex(ipv4_address)\n",
        "\n",
        "        print(f\"Địa chỉ IPv4: {ipv4_address}\")\n",
        "        print(f\"Dạng danh sách: {ip_list}\")\n",
        "        print(f\"Dạng số nguyên: {ip_integer}\")\n",
        "        print(f\"Dạng nhị phân: {ip_binary}\")\n",
        "        print(f\"Dạng hex: {ip_hex}\")\n"
      ]
    },
    {
      "cell_type": "markdown",
      "metadata": {
        "id": "RPujo3D2e8x4"
      },
      "source": [
        "# 6. Sinh viên hãy cho biết kết quả của 2 câu lệnh dưới đây\n",
        "import socket\n",
        "\n",
        "help(socket.inet_ntoa)"
      ]
    },
    {
      "cell_type": "code",
      "execution_count": null,
      "metadata": {
        "id": "c8auiKUze8x4"
      },
      "outputs": [],
      "source": [
        "#Sinh viên ghi kết qủa\n"
      ]
    },
    {
      "cell_type": "code",
      "execution_count": 11,
      "metadata": {
        "colab": {
          "base_uri": "https://localhost:8080/"
        },
        "id": "tCztSWjoe8x4",
        "outputId": "dc089ae9-c440-466d-a478-f9482e105ba1"
      },
      "outputs": [
        {
          "output_type": "stream",
          "name": "stdout",
          "text": [
            "The address of x is 134749393043984\n",
            "The address of y is 134749393044304\n",
            "The address of temp is 134749102013744\n"
          ]
        }
      ],
      "source": [
        "### START CODE HERE ###\n",
        "# writing code to get the address (in RAM) of x, y, temp through the built-in function id()\n",
        "# Khởi tạo biến\n",
        "x = 10\n",
        "y = 20\n",
        "temp = \"hello\"\n",
        "\n",
        "# Lấy địa chỉ bộ nhớ sử dụng id() và hiển thị chúng\n",
        "print(f\"The address of x is {id(x)}\")\n",
        "print(f\"The address of y is {id(y)}\")\n",
        "print(f\"The address of temp is {id(temp)}\")\n",
        "### END CODE HERE ###"
      ]
    },
    {
      "cell_type": "markdown",
      "metadata": {
        "id": "WdMibWYZe8x4"
      },
      "source": [
        "# 7. Sinh viên hãy cho biết kết quả của 2 câu lệnh dưới đây:\n",
        "\n",
        "![image.png](attachment:image.png)"
      ]
    },
    {
      "cell_type": "code",
      "execution_count": 13,
      "metadata": {
        "colab": {
          "base_uri": "https://localhost:8080/"
        },
        "id": "l9B178fYe8x5",
        "outputId": "340a1969-f4bb-4e84-cc00-6e95837d744f"
      },
      "outputs": [
        {
          "output_type": "stream",
          "name": "stdout",
          "text": [
            "IP Address: 127.0.0.1 => Packed: b'7f000001', Unpacked: 127.0.0.1\n",
            "IP Address: 192.168.0.1 => Packed: b'c0a80001', Unpacked: 192.168.0.1\n"
          ]
        }
      ],
      "source": [
        "#  Start Code HERE\n",
        "import socket\n",
        "from binascii import hexlify\n",
        "def convert_ip4_address():\n",
        "    for ip_addr in['127.0.0.1', '192.168.0.1']:\n",
        "        packed_ip_addr = socket.inet_aton(ip_addr)\n",
        "        unpacked_ip_addr = socket.inet_ntoa(packed_ip_addr)\n",
        "        print(\"IP Address: %s => Packed: %s, Unpacked: %s\" %(ip_addr, hexlify(packed_ip_addr), unpacked_ip_addr))\n",
        "\n",
        "if __name__ == '__main__':\n",
        "    convert_ip4_address()\n",
        "\n",
        "# Write Result HERE\n",
        "#IP Address: 127.0.0.1 => Packed: b'7f000001', Unpacked: 127.0.0.1\n",
        "#IP Address: 192.168.0.1 => Packed: b'c0a80001', Unpacked: 192.168.0.1"
      ]
    },
    {
      "cell_type": "markdown",
      "metadata": {
        "id": "Cd4X5SeEe8x5"
      },
      "source": [
        "# 8. ICMP Echo Request\n",
        "ICMP Echo Request được biết đến bằng cách sử dụng lệnh ping. Gói ICMP được gửi đến máy chủ bằng địa chỉ IP và trả về kết quả thông qua trường TYPE. Dựa vào giá trị của TYPE để xác định tình trạng của máy chủ hiện tại.\n",
        "\n",
        "Một số giá trị của TYPE:\n",
        "\n",
        "0: Echo Reply\n",
        "\n",
        "2: No response\n",
        "\n",
        "...\n",
        "\n",
        "Sinh viên thực hoàn thành đoạn code sau và cho biết kết quả\n",
        "\n",
        "![image.png](attachment:image.png)"
      ]
    },
    {
      "cell_type": "code",
      "execution_count": 22,
      "metadata": {
        "colab": {
          "base_uri": "https://localhost:8080/"
        },
        "id": "mjC84ZQoe8x5",
        "outputId": "9b0faa5b-6844-4060-8820-674dcd00b58c"
      },
      "outputs": [
        {
          "output_type": "stream",
          "name": "stdout",
          "text": [
            "Type value: 0\n",
            "Ping to www.google.com OK\n"
          ]
        }
      ],
      "source": [
        "#  Start Code HERE\n",
        "import subprocess\n",
        "\n",
        "address = \"www.google.com\"\n",
        "res = subprocess.call(['ping', '-c', '4', address])  # Thêm '-c' để chỉ định số gói tin ping\n",
        "\n",
        "print(\"Type value:\", str(res))\n",
        "\n",
        "if res == 0:\n",
        "    print(\"Ping to\", address, \"OK\")\n",
        "elif res == 2:\n",
        "    print(\"No response from\", address)\n",
        "else:\n",
        "    print(\"Ping to\", address, \"failed!\")\n",
        "# Write Result HERE\n",
        "#Type value: 0\n",
        "\n",
        "#ping to www.google.com OK"
      ]
    },
    {
      "cell_type": "code",
      "execution_count": 21,
      "metadata": {
        "colab": {
          "base_uri": "https://localhost:8080/"
        },
        "id": "5Cx6Xfz9e8x6",
        "outputId": "9360af96-4f70-41b5-fa6b-87af7a93d0a2"
      },
      "outputs": [
        {
          "output_type": "stream",
          "name": "stdout",
          "text": [
            "Reading package lists... Done\n",
            "Building dependency tree... Done\n",
            "Reading state information... Done\n",
            "The following NEW packages will be installed:\n",
            "  iputils-ping\n",
            "0 upgraded, 1 newly installed, 0 to remove and 18 not upgraded.\n",
            "Need to get 42.9 kB of archives.\n",
            "After this operation, 116 kB of additional disk space will be used.\n",
            "Get:1 http://archive.ubuntu.com/ubuntu jammy/main amd64 iputils-ping amd64 3:20211215-1 [42.9 kB]\n",
            "Fetched 42.9 kB in 1s (85.5 kB/s)\n",
            "Selecting previously unselected package iputils-ping.\n",
            "(Reading database ... 120895 files and directories currently installed.)\n",
            "Preparing to unpack .../iputils-ping_3%3a20211215-1_amd64.deb ...\n",
            "Unpacking iputils-ping (3:20211215-1) ...\n",
            "Setting up iputils-ping (3:20211215-1) ...\n",
            "Processing triggers for man-db (2.10.2-1) ...\n"
          ]
        }
      ],
      "source": [
        "!apt-get install iputils-ping\n"
      ]
    },
    {
      "cell_type": "markdown",
      "metadata": {
        "id": "WjI2jqKae8x6"
      },
      "source": [
        "# BÀI TẬP\n",
        "Bài 1: Hãy thực thi câu lệnh sau và cho biết kết quả:\n",
        "\n",
        "a)\n",
        "\n",
        "import socket\n",
        "\n",
        "help(socket.gethostname)\n",
        "\n",
        "b)\n",
        "\n",
        "import socket\n",
        "\n",
        "help(socket.gethostbyname)\n",
        "\n",
        "Bài 2: Sinh viên hãy thực hiện lại thí dụ 4, với Input hostname nhập vào là 255.255.255.256, hãy giải thích kết quả nhận được.  \n",
        "\n",
        "Bài 3: Hãy cải tiến thí dụ 4 bằng cách sử dụng vòng lặp cho phép người dùng liên tục nhập hostname và in ra địa chỉ IP, vòng lặp chỉ kết thúc khi người dùng nhập phím Q.\n",
        "\n",
        "Bài 4: Trong thí dụ 8, có sử dụng hàm subprocess, sinh viên hãy tìm hiểu và trình bày hàm subprocess, có giải thích và thí dụ minh họa.\n"
      ]
    },
    {
      "cell_type": "code",
      "execution_count": 26,
      "metadata": {
        "colab": {
          "base_uri": "https://localhost:8080/"
        },
        "id": "Yq4grePve8x6",
        "outputId": "de9be1c5-403e-4228-c895-59830370509c"
      },
      "outputs": [
        {
          "output_type": "stream",
          "name": "stdout",
          "text": [
            "Nhập tên miền (hoặc nhấn 'Q' để thoát): tuoitre.com\n",
            "Không thể truy vấn địa chỉ IP của tuoitre.com\n",
            "Nhập tên miền (hoặc nhấn 'Q' để thoát): tuoitre.net\n",
            "Địa chỉ IP của tuoitre.net là 184.168.221.55\n",
            "Nhập tên miền (hoặc nhấn 'Q' để thoát): https://tuoitre.vn/\n",
            "Không thể truy vấn địa chỉ IP của https://tuoitre.vn/\n",
            "Nhập tên miền (hoặc nhấn 'Q' để thoát): tuoitre.vn\n",
            "Địa chỉ IP của tuoitre.vn là 14.225.199.147\n",
            "Nhập tên miền (hoặc nhấn 'Q' để thoát): q\n",
            "Kết thúc chương trình.\n"
          ]
        }
      ],
      "source": [
        "### START CODE HERE ###\n",
        "import socket\n",
        "\n",
        "while True:\n",
        "    try:\n",
        "        # Lấy tên miền từ người dùng\n",
        "        host_name = input(\"Nhập tên miền (hoặc nhấn 'Q' để thoát): \")\n",
        "\n",
        "        # Kiểm tra nếu người dùng muốn thoát\n",
        "        if host_name.lower() == 'q':\n",
        "            break\n",
        "\n",
        "        # Truy vấn địa chỉ IP từ tên của host\n",
        "        ip_address = socket.gethostbyname(host_name)\n",
        "        print(f\"Địa chỉ IP của {host_name} là {ip_address}\")\n",
        "    except socket.gaierror:\n",
        "        print(f\"Không thể truy vấn địa chỉ IP của {host_name}\")\n",
        "\n",
        "print(\"Kết thúc chương trình.\")\n",
        "\n",
        "### END CODE HERE ###"
      ]
    },
    {
      "cell_type": "markdown",
      "metadata": {
        "id": "tAnf_jbhe8x6"
      },
      "source": [
        "#TÀI LIỆU THAM KHẢO\n",
        "\n",
        "https://www.python-course.eu/conditional_statements.php\n",
        "\n",
        "https://www.w3schools.com/python/python_conditions.asp\n",
        "\n",
        "https://jaxenter.com/differences-python-2-3-148432.html\n",
        "\n",
        "https://jaxenter.com/implement-switch-case-statement-python-138315.html\n",
        "\n",
        "https://www.geeksforgeeks.org/network-scanner-in-python/"
      ]
    }
  ],
  "metadata": {
    "kernelspec": {
      "display_name": "Python 3",
      "language": "python",
      "name": "python3"
    },
    "language_info": {
      "codemirror_mode": {
        "name": "ipython",
        "version": 3
      },
      "file_extension": ".py",
      "mimetype": "text/x-python",
      "name": "python",
      "nbconvert_exporter": "python",
      "pygments_lexer": "ipython3",
      "version": "3.10.8"
    },
    "colab": {
      "provenance": []
    }
  },
  "nbformat": 4,
  "nbformat_minor": 0
}