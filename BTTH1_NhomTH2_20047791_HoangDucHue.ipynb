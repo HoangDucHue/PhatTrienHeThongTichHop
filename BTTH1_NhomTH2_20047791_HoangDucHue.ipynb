{
  "cells": [
    {
      "cell_type": "markdown",
      "metadata": {
        "id": "view-in-github",
        "colab_type": "text"
      },
      "source": [
        "<a href=\"https://colab.research.google.com/github/HoangDucHue/PhatTrienHeThongTichHop/blob/Tuan1/BTTH1_NhomTH2_20047791_HoangDucHue.ipynb\" target=\"_parent\"><img src=\"https://colab.research.google.com/assets/colab-badge.svg\" alt=\"Open In Colab\"/></a>"
      ]
    },
    {
      "cell_type": "markdown",
      "metadata": {
        "id": "VS17Hv1Hjckh"
      },
      "source": [
        "# Họ và tên: Hoàng Đức Huệ\n",
        "# MSSV: 20047791\n",
        "# Lớp học phần - Nhóm TH: Nhóm 2"
      ]
    },
    {
      "cell_type": "markdown",
      "metadata": {
        "id": "uFz51PGxjcki"
      },
      "source": [
        "# 1. Hello world!"
      ]
    },
    {
      "cell_type": "code",
      "execution_count": null,
      "metadata": {
        "id": "46OOOBPdjcki",
        "outputId": "8525ffa5-b28a-4ea9-df47-83672d0497ad"
      },
      "outputs": [
        {
          "name": "stdout",
          "output_type": "stream",
          "text": [
            "Hello World\n"
          ]
        }
      ],
      "source": [
        "print(\"Hello World\")"
      ]
    },
    {
      "cell_type": "markdown",
      "metadata": {
        "id": "qCwO257cjckj"
      },
      "source": [
        "# 2. Program to Add Two Numbers"
      ]
    },
    {
      "cell_type": "markdown",
      "metadata": {
        "id": "2xEDIn2qjckj"
      },
      "source": [
        "## Add Two Numbers"
      ]
    },
    {
      "cell_type": "code",
      "execution_count": null,
      "metadata": {
        "id": "nws48TZYjckj",
        "outputId": "9a335eb6-cc0a-4fe5-cf3d-da44d890d039"
      },
      "outputs": [
        {
          "name": "stdout",
          "output_type": "stream",
          "text": [
            "The sum of two numbers is:  7.8\n"
          ]
        }
      ],
      "source": [
        "num1 = 1.5\n",
        "num2 = 6.3\n",
        "\n",
        "### START CODE HERE ###\n",
        "# Add two numbers\n",
        "\n",
        "sum = num1 + num2\n",
        "\n",
        "# Display the sum\n",
        "print(\"The sum of two numbers is: \", sum)"
      ]
    },
    {
      "cell_type": "markdown",
      "metadata": {
        "id": "KQnNFLZ0jckk"
      },
      "source": [
        "##  Add Two Numbers With User Input"
      ]
    },
    {
      "cell_type": "code",
      "execution_count": null,
      "metadata": {
        "colab": {
          "base_uri": "https://localhost:8080/"
        },
        "id": "HT_CLCIjjckk",
        "outputId": "7cf397da-c7fa-453b-ea2c-7d5ef76dbc6c"
      },
      "outputs": [
        {
          "output_type": "stream",
          "name": "stdout",
          "text": [
            "Enter the first number: 1.5\n",
            "Enter the second number: 6.8\n",
            "The sum of 1.5 and 6.8 is 8.3\n"
          ]
        }
      ],
      "source": [
        "# Store input numbers\n",
        "import math\n",
        "#num1 = 1.5\n",
        "#num2 = 6.8\n",
        "### START CODE HERE ###\n",
        "num1 = float(input(\"Enter the first number: \"))\n",
        "num2 = float(input(\"Enter the second number: \"))\n",
        "# Add two numbers\n",
        "#sum = num1 + num2\n",
        "### END CODE HERE ###\n",
        "result = num1 + num2\n",
        "# Display the sum\n",
        "print(\"The sum of\", num1, \"and\", num2, \"is\", result)"
      ]
    },
    {
      "cell_type": "markdown",
      "metadata": {
        "id": "p5FRKZsajckk"
      },
      "source": [
        "# 3. Program to Find the Square Root"
      ]
    },
    {
      "cell_type": "code",
      "execution_count": null,
      "metadata": {
        "id": "kQscRHD5jckk",
        "outputId": "43ee0c04-697d-4570-ae32-3bdd869372d3"
      },
      "outputs": [
        {
          "name": "stdout",
          "output_type": "stream",
          "text": [
            "The square root of 8 is: 2.8284271247461903\n"
          ]
        }
      ],
      "source": [
        "# Python Program to calculate the square root\n",
        "import math\n",
        "# Note: change this value for a different result\n",
        "num = 8\n",
        "\n",
        "# To take the input from the user\n",
        "#num = float(input('Enter a number: '))\n",
        "square_root = math.sqrt(num)\n",
        "# calculate the square root\n",
        "print(\"The square root of {} is: {}\".format(num, square_root))\n",
        "\n",
        "# print the value of the square root\n",
        "\n"
      ]
    },
    {
      "cell_type": "markdown",
      "metadata": {
        "id": "vnbR2ZZrjckk"
      },
      "source": [
        "# 4. Program to Calculate the Area of a Triangle\n",
        "s = (a+b+c)/2\n",
        "\n",
        "area = √(s(s-a)*(s-b)*(s-c))"
      ]
    },
    {
      "cell_type": "code",
      "execution_count": null,
      "metadata": {
        "colab": {
          "base_uri": "https://localhost:8080/"
        },
        "id": "hZsKuFnQjckk",
        "outputId": "084c7df2-92bb-49d9-d897-fd8e159d3c83"
      },
      "outputs": [
        {
          "output_type": "stream",
          "name": "stdout",
          "text": [
            "Enter the length of side 'a': 5\n",
            "Enter the length of side 'b': 6\n",
            "Enter the length of side 'c': 2\n",
            "The area of the triangle is 4.68\n"
          ]
        }
      ],
      "source": [
        "# take inputs from the user\n",
        "a = float(input(\"Enter the length of side 'a': \"))\n",
        "b = float(input(\"Enter the length of side 'b': \"))\n",
        "c = float(input(\"Enter the length of side 'c': \"))\n",
        "\n",
        "# calculate the semi-perimeter\n",
        "s = (a + b + c) / 2\n",
        "\n",
        "# calculate the area\n",
        "area = (s * (s - a) * (s - b) * (s - c)) ** 0.5\n",
        "\n",
        "### END CODE HERE ###\n",
        "\n",
        "print('The area of the triangle is %0.2f' %area)"
      ]
    },
    {
      "cell_type": "markdown",
      "metadata": {
        "id": "c4S2W658jckk"
      },
      "source": [
        "# 5. Program to Solve Quadratic Equation\n",
        "ax2 + bx + c = 0, where a, b and c are real numbers and a ≠ 0"
      ]
    },
    {
      "cell_type": "code",
      "execution_count": null,
      "metadata": {
        "colab": {
          "base_uri": "https://localhost:8080/"
        },
        "id": "VUPRRQPJjckl",
        "outputId": "3b72846f-2eda-4e57-f80a-ba1f27293b22"
      },
      "outputs": [
        {
          "output_type": "stream",
          "name": "stdout",
          "text": [
            "Enter the first number 'a': 4\n",
            "Enter the two number 'b': -2\n",
            "Enter the Three number 'c': -6\n",
            "The equation has two solutions: x1 = 1.5 và x2 = -1.0\n"
          ]
        }
      ],
      "source": [
        "import cmath\n",
        "\n",
        "### START CODE HERE ###\n",
        "\n",
        "# take inputs from the user\n",
        "a = float(input(\"Enter the first number 'a': \"))\n",
        "b = float(input(\"Enter the two number 'b': \"))\n",
        "c = float(input(\"Enter the Three number 'c': \"))\n",
        "\n",
        "# calculate the discriminant\n",
        "delta = b**2 - 4*a*c\n",
        "if delta > 0:\n",
        "    x1 = (-b + math.sqrt(delta)) / (2*a)\n",
        "    x2 = (-b - math.sqrt(delta)) / (2*a)\n",
        "    print(f\"The equation has two solutions: x1 = {x1} và x2 = {x2}\")\n",
        "elif delta == 0:\n",
        "    x = -b / (2*a)\n",
        "    print(f\"The equation has a double solution: x = {x}\")\n",
        "else:\n",
        "    print(\"The equation has no solution.\")\n",
        "# find two solutions using square root for real/complex number\n",
        "#sol1 = (-b - cmath.sqrt(d)) / (2*a)\n",
        "#sol2 = (-b + cmath.sqrt(d)) / (2*a)\n",
        "### END CODE HERE\n",
        "#print('The two solutions of the program are {0} and {1}'.format(sol1,sol2))"
      ]
    },
    {
      "cell_type": "markdown",
      "metadata": {
        "id": "mHujPZgQjckl"
      },
      "source": [
        "# 6. Program to Swap Two Variables"
      ]
    },
    {
      "cell_type": "code",
      "execution_count": null,
      "metadata": {
        "colab": {
          "base_uri": "https://localhost:8080/"
        },
        "id": "IloCzkf8jckl",
        "outputId": "cc50c197-dbe3-41da-d531-8fe631364912"
      },
      "outputs": [
        {
          "output_type": "stream",
          "name": "stdout",
          "text": [
            "Enter the value of x: 12\n",
            "Enter the value of y: 500\n",
            "Before swapping: x = 12 , y = 500\n",
            "After swapping: x = 500 , y = 12\n"
          ]
        }
      ],
      "source": [
        "# To take inputs from the user\n",
        "x = input(\"Enter the value of x: \")\n",
        "y = input(\"Enter the value of y: \")\n",
        "\n",
        "# Print the values of x and y before swapping\n",
        "print(\"Before swapping: x =\", x, \", y =\", y)\n",
        "\n",
        "# create a temporary variable and swap the values\n",
        "temp = x\n",
        "x = y\n",
        "y = temp\n",
        "\n",
        "# Print the values of x and y after swapping\n",
        "print(\"After swapping: x =\", x, \", y =\", y)\n",
        "\n",
        "\n"
      ]
    },
    {
      "cell_type": "code",
      "execution_count": 21,
      "metadata": {
        "colab": {
          "base_uri": "https://localhost:8080/"
        },
        "id": "s8dqOmwJjckl",
        "outputId": "c28f73e5-7bd4-440a-9c7a-b5dc906054a1"
      },
      "outputs": [
        {
          "output_type": "stream",
          "name": "stdout",
          "text": [
            "Enter the value of x: 5\n",
            "Enter the value of y: 10\n",
            "Before swapping:\n",
            "x = 5 , Address of x: 136367879490928\n",
            "y = 10 , Address of y: 136367042255792\n",
            "After swapping:\n",
            "x = 10 , Address of x: 136367042255792\n",
            "y = 5 , Address of y: 136367879490928\n",
            "temp = 5 , Address of temp: 136367879490928\n"
          ]
        }
      ],
      "source": [
        "# To take inputs from the user\n",
        "x = input(\"Enter the value of x: \")\n",
        "y = input(\"Enter the value of y: \")\n",
        "\n",
        "# Print the values and memory addresses of x, y before swapping\n",
        "print(\"Before swapping:\")\n",
        "print(\"x =\", x, \", Address of x:\", id(x))\n",
        "print(\"y =\", y, \", Address of y:\", id(y))\n",
        "\n",
        "# create a temporary variable and swap the values\n",
        "temp = x\n",
        "x = y\n",
        "y = temp\n",
        "\n",
        "# Print the values and memory addresses of x, y after swapping\n",
        "print(\"After swapping:\")\n",
        "print(\"x =\", x, \", Address of x:\", id(x))\n",
        "print(\"y =\", y, \", Address of y:\", id(y))\n",
        "print(\"temp =\", temp, \", Address of temp:\", id(temp))\n"
      ]
    },
    {
      "cell_type": "markdown",
      "metadata": {
        "id": "oaJIEarkjckl"
      },
      "source": [
        "# 7. Program to Generate a Random Number\n",
        "https://docs.python.org/3/library/random.html"
      ]
    },
    {
      "cell_type": "code",
      "execution_count": 23,
      "metadata": {
        "id": "8VZbzWCUjckl",
        "colab": {
          "base_uri": "https://localhost:8080/"
        },
        "outputId": "da935510-e22c-4b7b-ef2c-2e7771b59476"
      },
      "outputs": [
        {
          "output_type": "stream",
          "name": "stdout",
          "text": [
            "6\n",
            "2\n",
            "6\n",
            "0.4180962795007692\n",
            "1.7730929657089733\n"
          ]
        }
      ],
      "source": [
        "# Program to generate a random number between 0 and 9\n",
        "\n",
        "# importing the random module\n",
        "import random\n",
        "\n",
        "print(random.randint(0,9))\n",
        "\n",
        "# Uncomment to try different function in random module\n",
        "print(random.randrange(9))\n",
        "print(random.randrange(3,9))\n",
        "print(random.random())\n",
        "print(random.uniform(a,b))"
      ]
    },
    {
      "cell_type": "markdown",
      "metadata": {
        "id": "5XDj8HMFjckl"
      },
      "source": [
        "# 8. Program to Convert Kilometers to Miles\n",
        "1 km = (1/1.609344) mi = 0.62137119 mi"
      ]
    },
    {
      "cell_type": "code",
      "execution_count": 24,
      "metadata": {
        "id": "LM7Ftm0Mjckl",
        "outputId": "9789c4db-bb80-4c33-e5f0-9bb6d4f81dbd",
        "colab": {
          "base_uri": "https://localhost:8080/"
        }
      },
      "outputs": [
        {
          "output_type": "stream",
          "name": "stdout",
          "text": [
            "Enter value in kilometers: 56\n",
            "56.00 kilometers is equal to 34.80 miles\n"
          ]
        }
      ],
      "source": [
        "# Taking kilometers input from the user\n",
        "kilometers = float(input(\"Enter value in kilometers: \"))\n",
        "\n",
        "# conversion factor\n",
        "conv_fac = 0.621371\n",
        "\n",
        "# calculate miles\n",
        "miles = kilometers * conv_fac\n",
        "print('%0.2f kilometers is equal to %0.2f miles' %(kilometers,miles))"
      ]
    },
    {
      "cell_type": "code",
      "execution_count": 28,
      "metadata": {
        "id": "PP91dT8ajckl",
        "colab": {
          "base_uri": "https://localhost:8080/"
        },
        "outputId": "87ff6c06-b594-4c8e-ec31-a56cb121245e"
      },
      "outputs": [
        {
          "output_type": "stream",
          "name": "stdout",
          "text": [
            "Enter distance in miles: 34.8\n",
            "34.80 miles is equal to 56.01 kilometers\n"
          ]
        }
      ],
      "source": [
        "### START CODE HERE ###\n",
        "# writing code to convert miles to kilometers\n",
        "# Take input from the user in miles\n",
        "miles = float(input(\"Enter distance in miles: \"))\n",
        "\n",
        "# Conversion factor for miles to kilometers\n",
        "conversion_factor = 1.60934\n",
        "\n",
        "# Convert miles to kilometers\n",
        "kilometers = miles * conversion_factor\n",
        "\n",
        "# Display the result\n",
        "#print(f\"{miles} miles is equal to {kilometers} kilometers\")\n",
        "print('%0.2f miles is equal to %0.2f kilometers' %(miles,kilometers))\n",
        "### END CODE HERE ###"
      ]
    },
    {
      "cell_type": "markdown",
      "metadata": {
        "id": "_-zIRQzsjckl"
      },
      "source": [
        "# 9. Program to Convert Celsius To Fahrenheit\n",
        "T(°F) = T(°C) × 1.8 + 32"
      ]
    },
    {
      "cell_type": "code",
      "execution_count": 29,
      "metadata": {
        "id": "jlKAxdlijckl",
        "colab": {
          "base_uri": "https://localhost:8080/"
        },
        "outputId": "361ea008-9022-417a-9939-fe1ab75e105c"
      },
      "outputs": [
        {
          "output_type": "stream",
          "name": "stdout",
          "text": [
            "Enter temperature in Celsius: 32\n",
            "32.0 degrees Celsius is equal to 89.6 degrees Fahrenheit\n"
          ]
        }
      ],
      "source": [
        "# Taking Celsius input from the user\n",
        "celsius = float(input(\"Enter temperature in Celsius: \"))\n",
        "\n",
        "# Conversion factor (Celsius to Fahrenheit)\n",
        "conversion_factor = 9/5\n",
        "\n",
        "# Calculate Fahrenheit\n",
        "fahrenheit = (celsius * conversion_factor) + 32\n",
        "\n",
        "# Print the result\n",
        "print(f\"{celsius} degrees Celsius is equal to {fahrenheit} degrees Fahrenheit\")\n"
      ]
    }
  ],
  "metadata": {
    "kernelspec": {
      "display_name": "Python 3",
      "language": "python",
      "name": "python3"
    },
    "language_info": {
      "codemirror_mode": {
        "name": "ipython",
        "version": 3
      },
      "file_extension": ".py",
      "mimetype": "text/x-python",
      "name": "python",
      "nbconvert_exporter": "python",
      "pygments_lexer": "ipython3",
      "version": "3.11.5"
    },
    "colab": {
      "provenance": [],
      "include_colab_link": true
    }
  },
  "nbformat": 4,
  "nbformat_minor": 0
}